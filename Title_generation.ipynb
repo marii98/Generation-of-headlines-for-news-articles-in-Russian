{
  "metadata": {
    "kernelspec": {
      "language": "python",
      "display_name": "Python 3",
      "name": "python3"
    },
    "language_info": {
      "name": "python",
      "version": "3.7.12",
      "mimetype": "text/x-python",
      "codemirror_mode": {
        "name": "ipython",
        "version": 3
      },
      "pygments_lexer": "ipython3",
      "nbconvert_exporter": "python",
      "file_extension": ".py"
    },
    "colab": {
      "provenance": []
    }
  },
  "nbformat_minor": 0,
  "nbformat": 4,
  "cells": [
    {
      "cell_type": "code",
      "source": [
        "import pandas as pd\n",
        "import matplotlib.pyplot as plt\n",
        "import tensorflow as tf\n",
        "import seaborn as sns\n",
        "import os"
      ],
      "metadata": {
        "_uuid": "8f2839f25d086af736a60e9eeb907d3b93b6e0e5",
        "_cell_guid": "b1076dfc-b9ad-4769-8c92-a6c4dae69d19",
        "execution": {
          "iopub.status.busy": "2023-01-23T14:01:01.051762Z",
          "iopub.execute_input": "2023-01-23T14:01:01.052171Z",
          "iopub.status.idle": "2023-01-23T14:01:01.058058Z",
          "shell.execute_reply.started": "2023-01-23T14:01:01.052138Z",
          "shell.execute_reply": "2023-01-23T14:01:01.056382Z"
        },
        "trusted": true,
        "id": "9-D6aMC4Sx7N"
      },
      "execution_count": null,
      "outputs": []
    },
    {
      "cell_type": "code",
      "source": [
        "!pip install jiwer\n",
        "!pip install trectools\n",
        "!pip install rouge_score\n",
        "!pip install datasets transformers torch evaluate nltk rouge_score"
      ],
      "metadata": {
        "execution": {
          "iopub.status.busy": "2023-01-23T14:01:01.086602Z",
          "iopub.execute_input": "2023-01-23T14:01:01.086992Z",
          "iopub.status.idle": "2023-01-23T14:01:46.563544Z",
          "shell.execute_reply.started": "2023-01-23T14:01:01.086962Z",
          "shell.execute_reply": "2023-01-23T14:01:46.562221Z"
        },
        "trusted": true,
        "id": "0FmFGLsZSx7X",
        "outputId": "62c5ad36-98f7-4804-e89e-1977aef6ec77"
      },
      "execution_count": null,
      "outputs": [
        {
          "name": "stdout",
          "text": "Requirement already satisfied: jiwer in /opt/conda/lib/python3.7/site-packages (2.5.1)\nRequirement already satisfied: levenshtein==0.20.2 in /opt/conda/lib/python3.7/site-packages (from jiwer) (0.20.2)\nRequirement already satisfied: rapidfuzz<3.0.0,>=2.3.0 in /opt/conda/lib/python3.7/site-packages (from levenshtein==0.20.2->jiwer) (2.13.7)\n\u001b[33mWARNING: Running pip as the 'root' user can result in broken permissions and conflicting behaviour with the system package manager. It is recommended to use a virtual environment instead: https://pip.pypa.io/warnings/venv\u001b[0m\u001b[33m\n\u001b[0mRequirement already satisfied: trectools in /opt/conda/lib/python3.7/site-packages (0.0.49)\nRequirement already satisfied: scipy>=0.10.0 in /opt/conda/lib/python3.7/site-packages (from trectools) (1.7.3)\nRequirement already satisfied: bs4>=0.0.0.1 in /opt/conda/lib/python3.7/site-packages (from trectools) (0.0.1)\nRequirement already satisfied: matplotlib>=1.5 in /opt/conda/lib/python3.7/site-packages (from trectools) (3.5.3)\nRequirement already satisfied: numpy>=1.0.0 in /opt/conda/lib/python3.7/site-packages (from trectools) (1.21.6)\nRequirement already satisfied: scikit-learn>=0.15 in /opt/conda/lib/python3.7/site-packages (from trectools) (1.0.2)\nRequirement already satisfied: sarge>=0.1.1 in /opt/conda/lib/python3.7/site-packages (from trectools) (0.1.7.post1)\nRequirement already satisfied: lxml>=3.6.0 in /opt/conda/lib/python3.7/site-packages (from trectools) (4.9.2)\nRequirement already satisfied: pandas>=0.15.0 in /opt/conda/lib/python3.7/site-packages (from trectools) (1.3.5)\nRequirement already satisfied: beautifulsoup4 in /opt/conda/lib/python3.7/site-packages (from bs4>=0.0.0.1->trectools) (4.11.1)\nRequirement already satisfied: cycler>=0.10 in /opt/conda/lib/python3.7/site-packages (from matplotlib>=1.5->trectools) (0.11.0)\nRequirement already satisfied: python-dateutil>=2.7 in /opt/conda/lib/python3.7/site-packages (from matplotlib>=1.5->trectools) (2.8.2)\nRequirement already satisfied: pillow>=6.2.0 in /opt/conda/lib/python3.7/site-packages (from matplotlib>=1.5->trectools) (9.1.1)\nRequirement already satisfied: pyparsing>=2.2.1 in /opt/conda/lib/python3.7/site-packages (from matplotlib>=1.5->trectools) (3.0.9)\nRequirement already satisfied: kiwisolver>=1.0.1 in /opt/conda/lib/python3.7/site-packages (from matplotlib>=1.5->trectools) (1.4.3)\nRequirement already satisfied: packaging>=20.0 in /opt/conda/lib/python3.7/site-packages (from matplotlib>=1.5->trectools) (22.0)\nRequirement already satisfied: fonttools>=4.22.0 in /opt/conda/lib/python3.7/site-packages (from matplotlib>=1.5->trectools) (4.33.3)\nRequirement already satisfied: pytz>=2017.3 in /opt/conda/lib/python3.7/site-packages (from pandas>=0.15.0->trectools) (2022.1)\nRequirement already satisfied: threadpoolctl>=2.0.0 in /opt/conda/lib/python3.7/site-packages (from scikit-learn>=0.15->trectools) (3.1.0)\nRequirement already satisfied: joblib>=0.11 in /opt/conda/lib/python3.7/site-packages (from scikit-learn>=0.15->trectools) (1.0.1)\nRequirement already satisfied: typing-extensions in /opt/conda/lib/python3.7/site-packages (from kiwisolver>=1.0.1->matplotlib>=1.5->trectools) (4.1.1)\nRequirement already satisfied: six>=1.5 in /opt/conda/lib/python3.7/site-packages (from python-dateutil>=2.7->matplotlib>=1.5->trectools) (1.15.0)\nRequirement already satisfied: soupsieve>1.2 in /opt/conda/lib/python3.7/site-packages (from beautifulsoup4->bs4>=0.0.0.1->trectools) (2.3.1)\n\u001b[33mWARNING: Running pip as the 'root' user can result in broken permissions and conflicting behaviour with the system package manager. It is recommended to use a virtual environment instead: https://pip.pypa.io/warnings/venv\u001b[0m\u001b[33m\n\u001b[0mRequirement already satisfied: rouge_score in /opt/conda/lib/python3.7/site-packages (0.1.2)\nRequirement already satisfied: absl-py in /opt/conda/lib/python3.7/site-packages (from rouge_score) (0.15.0)\nRequirement already satisfied: nltk in /opt/conda/lib/python3.7/site-packages (from rouge_score) (3.8.1)\nRequirement already satisfied: numpy in /opt/conda/lib/python3.7/site-packages (from rouge_score) (1.21.6)\nRequirement already satisfied: six>=1.14.0 in /opt/conda/lib/python3.7/site-packages (from rouge_score) (1.15.0)\nRequirement already satisfied: tqdm in /opt/conda/lib/python3.7/site-packages (from nltk->rouge_score) (4.64.0)\nRequirement already satisfied: click in /opt/conda/lib/python3.7/site-packages (from nltk->rouge_score) (8.1.3)\nRequirement already satisfied: regex>=2021.8.3 in /opt/conda/lib/python3.7/site-packages (from nltk->rouge_score) (2021.11.10)\nRequirement already satisfied: joblib in /opt/conda/lib/python3.7/site-packages (from nltk->rouge_score) (1.0.1)\nRequirement already satisfied: importlib-metadata in /opt/conda/lib/python3.7/site-packages (from click->nltk->rouge_score) (4.13.0)\nRequirement already satisfied: typing-extensions>=3.6.4 in /opt/conda/lib/python3.7/site-packages (from importlib-metadata->click->nltk->rouge_score) (4.1.1)\nRequirement already satisfied: zipp>=0.5 in /opt/conda/lib/python3.7/site-packages (from importlib-metadata->click->nltk->rouge_score) (3.8.0)\n\u001b[33mWARNING: Running pip as the 'root' user can result in broken permissions and conflicting behaviour with the system package manager. It is recommended to use a virtual environment instead: https://pip.pypa.io/warnings/venv\u001b[0m\u001b[33m\n\u001b[0mRequirement already satisfied: datasets in /opt/conda/lib/python3.7/site-packages (2.1.0)\nRequirement already satisfied: transformers in /opt/conda/lib/python3.7/site-packages (4.20.1)\nRequirement already satisfied: torch in /opt/conda/lib/python3.7/site-packages (1.11.0+cpu)\nRequirement already satisfied: evaluate in /opt/conda/lib/python3.7/site-packages (0.4.0)\nRequirement already satisfied: nltk in /opt/conda/lib/python3.7/site-packages (3.8.1)\nRequirement already satisfied: rouge_score in /opt/conda/lib/python3.7/site-packages (0.1.2)\nRequirement already satisfied: aiohttp in /opt/conda/lib/python3.7/site-packages (from datasets) (3.8.1)\nRequirement already satisfied: tqdm>=4.62.1 in /opt/conda/lib/python3.7/site-packages (from datasets) (4.64.0)\nRequirement already satisfied: xxhash in /opt/conda/lib/python3.7/site-packages (from datasets) (3.2.0)\nRequirement already satisfied: numpy>=1.17 in /opt/conda/lib/python3.7/site-packages (from datasets) (1.21.6)\nRequirement already satisfied: pandas in /opt/conda/lib/python3.7/site-packages (from datasets) (1.3.5)\nRequirement already satisfied: huggingface-hub<1.0.0,>=0.1.0 in /opt/conda/lib/python3.7/site-packages (from datasets) (0.10.1)\nRequirement already satisfied: responses<0.19 in /opt/conda/lib/python3.7/site-packages (from datasets) (0.18.0)\nRequirement already satisfied: requests>=2.19.0 in /opt/conda/lib/python3.7/site-packages (from datasets) (2.28.1)\nRequirement already satisfied: dill in /opt/conda/lib/python3.7/site-packages (from datasets) (0.3.6)\nRequirement already satisfied: fsspec[http]>=2021.05.0 in /opt/conda/lib/python3.7/site-packages (from datasets) (2022.11.0)\nRequirement already satisfied: importlib-metadata in /opt/conda/lib/python3.7/site-packages (from datasets) (4.13.0)\nRequirement already satisfied: packaging in /opt/conda/lib/python3.7/site-packages (from datasets) (22.0)\nRequirement already satisfied: multiprocess in /opt/conda/lib/python3.7/site-packages (from datasets) (0.70.14)\nRequirement already satisfied: pyarrow>=5.0.0 in /opt/conda/lib/python3.7/site-packages (from datasets) (8.0.0)\nRequirement already satisfied: pyyaml>=5.1 in /opt/conda/lib/python3.7/site-packages (from transformers) (6.0)\nRequirement already satisfied: tokenizers!=0.11.3,<0.13,>=0.11.1 in /opt/conda/lib/python3.7/site-packages (from transformers) (0.12.1)\nRequirement already satisfied: regex!=2019.12.17 in /opt/conda/lib/python3.7/site-packages (from transformers) (2021.11.10)\nRequirement already satisfied: filelock in /opt/conda/lib/python3.7/site-packages (from transformers) (3.7.1)\nRequirement already satisfied: typing-extensions in /opt/conda/lib/python3.7/site-packages (from torch) (4.1.1)\nRequirement already satisfied: click in /opt/conda/lib/python3.7/site-packages (from nltk) (8.1.3)\nRequirement already satisfied: joblib in /opt/conda/lib/python3.7/site-packages (from nltk) (1.0.1)\nRequirement already satisfied: absl-py in /opt/conda/lib/python3.7/site-packages (from rouge_score) (0.15.0)\nRequirement already satisfied: six>=1.14.0 in /opt/conda/lib/python3.7/site-packages (from rouge_score) (1.15.0)\nRequirement already satisfied: aiosignal>=1.1.2 in /opt/conda/lib/python3.7/site-packages (from aiohttp->datasets) (1.2.0)\nRequirement already satisfied: multidict<7.0,>=4.5 in /opt/conda/lib/python3.7/site-packages (from aiohttp->datasets) (6.0.2)\nRequirement already satisfied: frozenlist>=1.1.1 in /opt/conda/lib/python3.7/site-packages (from aiohttp->datasets) (1.3.0)\nRequirement already satisfied: async-timeout<5.0,>=4.0.0a3 in /opt/conda/lib/python3.7/site-packages (from aiohttp->datasets) (4.0.2)\nRequirement already satisfied: yarl<2.0,>=1.0 in /opt/conda/lib/python3.7/site-packages (from aiohttp->datasets) (1.7.2)\nRequirement already satisfied: asynctest==0.13.0 in /opt/conda/lib/python3.7/site-packages (from aiohttp->datasets) (0.13.0)\nRequirement already satisfied: attrs>=17.3.0 in /opt/conda/lib/python3.7/site-packages (from aiohttp->datasets) (21.4.0)\nRequirement already satisfied: charset-normalizer<3.0,>=2.0 in /opt/conda/lib/python3.7/site-packages (from aiohttp->datasets) (2.1.0)\nRequirement already satisfied: idna<4,>=2.5 in /opt/conda/lib/python3.7/site-packages (from requests>=2.19.0->datasets) (3.3)\nRequirement already satisfied: urllib3<1.27,>=1.21.1 in /opt/conda/lib/python3.7/site-packages (from requests>=2.19.0->datasets) (1.26.13)\nRequirement already satisfied: certifi>=2017.4.17 in /opt/conda/lib/python3.7/site-packages (from requests>=2.19.0->datasets) (2022.12.7)\nRequirement already satisfied: zipp>=0.5 in /opt/conda/lib/python3.7/site-packages (from importlib-metadata->datasets) (3.8.0)\nRequirement already satisfied: python-dateutil>=2.7.3 in /opt/conda/lib/python3.7/site-packages (from pandas->datasets) (2.8.2)\nRequirement already satisfied: pytz>=2017.3 in /opt/conda/lib/python3.7/site-packages (from pandas->datasets) (2022.1)\n\u001b[33mWARNING: Running pip as the 'root' user can result in broken permissions and conflicting behaviour with the system package manager. It is recommended to use a virtual environment instead: https://pip.pypa.io/warnings/venv\u001b[0m\u001b[33m\n\u001b[0m",
          "output_type": "stream"
        }
      ]
    },
    {
      "cell_type": "code",
      "source": [
        "df = pd.read_csv('/kaggle/input/corpus-of-russian-news-articles-from-lenta/lenta-ru-news.csv')\n",
        "df"
      ],
      "metadata": {
        "execution": {
          "iopub.status.busy": "2023-01-23T14:04:07.980080Z",
          "iopub.execute_input": "2023-01-23T14:04:07.980512Z",
          "iopub.status.idle": "2023-01-23T14:05:05.580019Z",
          "shell.execute_reply.started": "2023-01-23T14:04:07.980479Z",
          "shell.execute_reply": "2023-01-23T14:05:05.578921Z"
        },
        "trusted": true,
        "id": "lVw_sRqpSx7c",
        "outputId": "b8eafb1f-4521-45a2-ce0e-b6238944df50"
      },
      "execution_count": null,
      "outputs": [
        {
          "name": "stderr",
          "text": "/opt/conda/lib/python3.7/site-packages/IPython/core/interactiveshell.py:3552: DtypeWarning: Columns (3) have mixed types.Specify dtype option on import or set low_memory=False.\n  exec(code_obj, self.user_global_ns, self.user_ns)\n",
          "output_type": "stream"
        },
        {
          "execution_count": 13,
          "output_type": "execute_result",
          "data": {
            "text/plain": "                                                url  \\\n0        https://lenta.ru/news/1914/09/16/hungarnn/   \n1       https://lenta.ru/news/1914/09/16/lermontov/   \n2       https://lenta.ru/news/1914/09/17/nesteroff/   \n3        https://lenta.ru/news/1914/09/17/bulldogn/   \n4            https://lenta.ru/news/1914/09/18/zver/   \n...                                             ...   \n800970      https://lenta.ru/news/2019/12/14/shnur/   \n800971       https://lenta.ru/news/2019/12/14/dolg/   \n800972  https://lenta.ru/news/2019/12/14/dark_euro/   \n800973      https://lenta.ru/news/2019/12/14/meteo/   \n800974      https://lenta.ru/news/2019/12/14/olimp/   \n\n                                                    title  \\\n0       1914. Русские войска вступили в пределы Венгрии     \n1       1914. Празднование столетия М.Ю. Лермонтова от...   \n2                                1914. Das ist Nesteroff!   \n3                         1914. Бульдог-гонец под Льежем    \n4                1914. Под Люблином пойман швабский зверь   \n...                                                   ...   \n800970          Шнуров раскритиковал Гагарину на «Голосе»   \n800971  В России предложили изменить правила взыскания...   \n800972          В России назвали «черную дату» для Европы   \n800973        Россиянам пообещали аномально теплую погоду   \n800974  В конкурсе прогнозов на АПЛ разыграют 100 тыся...   \n\n                                                     text       topic  \\\n0       Бои у Сопоцкина и Друскеник закончились отступ...  Библиотека   \n1       Министерство народного просвещения, в виду про...  Библиотека   \n2       Штабс-капитан П. Н. Нестеров на днях, увидев в...  Библиотека   \n3       Фотограф-корреспондент Daily Mirror рассказыва...  Библиотека   \n4       Лица, приехавшие в Варшаву из Люблина, передаю...  Библиотека   \n...                                                   ...         ...   \n800970  Певец Сергей Шнуров раскритиковал свою коллегу...         NaN   \n800971  Министерство юстиции России предложило изменит...         NaN   \n800972  Испытание США ранее запрещенной Договором о ли...         NaN   \n800973  В ближайшие дни в европейской части России пог...         NaN   \n800974  Ведущие футбольные чемпионаты ушли на зимние к...         NaN   \n\n                     tags        date  \n0          Первая мировая  1914/09/16  \n1          Первая мировая  1914/09/16  \n2          Первая мировая  1914/09/17  \n3          Первая мировая  1914/09/17  \n4          Первая мировая  1914/09/18  \n...                   ...         ...  \n800970         ТВ и радио  2019/12/14  \n800971                Все  2019/12/14  \n800972           Политика  2019/12/14  \n800973           Общество  2019/12/14  \n800974  Английский футбол  2019/12/14  \n\n[800975 rows x 6 columns]",
            "text/html": "<div>\n<style scoped>\n    .dataframe tbody tr th:only-of-type {\n        vertical-align: middle;\n    }\n\n    .dataframe tbody tr th {\n        vertical-align: top;\n    }\n\n    .dataframe thead th {\n        text-align: right;\n    }\n</style>\n<table border=\"1\" class=\"dataframe\">\n  <thead>\n    <tr style=\"text-align: right;\">\n      <th></th>\n      <th>url</th>\n      <th>title</th>\n      <th>text</th>\n      <th>topic</th>\n      <th>tags</th>\n      <th>date</th>\n    </tr>\n  </thead>\n  <tbody>\n    <tr>\n      <th>0</th>\n      <td>https://lenta.ru/news/1914/09/16/hungarnn/</td>\n      <td>1914. Русские войска вступили в пределы Венгрии</td>\n      <td>Бои у Сопоцкина и Друскеник закончились отступ...</td>\n      <td>Библиотека</td>\n      <td>Первая мировая</td>\n      <td>1914/09/16</td>\n    </tr>\n    <tr>\n      <th>1</th>\n      <td>https://lenta.ru/news/1914/09/16/lermontov/</td>\n      <td>1914. Празднование столетия М.Ю. Лермонтова от...</td>\n      <td>Министерство народного просвещения, в виду про...</td>\n      <td>Библиотека</td>\n      <td>Первая мировая</td>\n      <td>1914/09/16</td>\n    </tr>\n    <tr>\n      <th>2</th>\n      <td>https://lenta.ru/news/1914/09/17/nesteroff/</td>\n      <td>1914. Das ist Nesteroff!</td>\n      <td>Штабс-капитан П. Н. Нестеров на днях, увидев в...</td>\n      <td>Библиотека</td>\n      <td>Первая мировая</td>\n      <td>1914/09/17</td>\n    </tr>\n    <tr>\n      <th>3</th>\n      <td>https://lenta.ru/news/1914/09/17/bulldogn/</td>\n      <td>1914. Бульдог-гонец под Льежем</td>\n      <td>Фотограф-корреспондент Daily Mirror рассказыва...</td>\n      <td>Библиотека</td>\n      <td>Первая мировая</td>\n      <td>1914/09/17</td>\n    </tr>\n    <tr>\n      <th>4</th>\n      <td>https://lenta.ru/news/1914/09/18/zver/</td>\n      <td>1914. Под Люблином пойман швабский зверь</td>\n      <td>Лица, приехавшие в Варшаву из Люблина, передаю...</td>\n      <td>Библиотека</td>\n      <td>Первая мировая</td>\n      <td>1914/09/18</td>\n    </tr>\n    <tr>\n      <th>...</th>\n      <td>...</td>\n      <td>...</td>\n      <td>...</td>\n      <td>...</td>\n      <td>...</td>\n      <td>...</td>\n    </tr>\n    <tr>\n      <th>800970</th>\n      <td>https://lenta.ru/news/2019/12/14/shnur/</td>\n      <td>Шнуров раскритиковал Гагарину на «Голосе»</td>\n      <td>Певец Сергей Шнуров раскритиковал свою коллегу...</td>\n      <td>NaN</td>\n      <td>ТВ и радио</td>\n      <td>2019/12/14</td>\n    </tr>\n    <tr>\n      <th>800971</th>\n      <td>https://lenta.ru/news/2019/12/14/dolg/</td>\n      <td>В России предложили изменить правила взыскания...</td>\n      <td>Министерство юстиции России предложило изменит...</td>\n      <td>NaN</td>\n      <td>Все</td>\n      <td>2019/12/14</td>\n    </tr>\n    <tr>\n      <th>800972</th>\n      <td>https://lenta.ru/news/2019/12/14/dark_euro/</td>\n      <td>В России назвали «черную дату» для Европы</td>\n      <td>Испытание США ранее запрещенной Договором о ли...</td>\n      <td>NaN</td>\n      <td>Политика</td>\n      <td>2019/12/14</td>\n    </tr>\n    <tr>\n      <th>800973</th>\n      <td>https://lenta.ru/news/2019/12/14/meteo/</td>\n      <td>Россиянам пообещали аномально теплую погоду</td>\n      <td>В ближайшие дни в европейской части России пог...</td>\n      <td>NaN</td>\n      <td>Общество</td>\n      <td>2019/12/14</td>\n    </tr>\n    <tr>\n      <th>800974</th>\n      <td>https://lenta.ru/news/2019/12/14/olimp/</td>\n      <td>В конкурсе прогнозов на АПЛ разыграют 100 тыся...</td>\n      <td>Ведущие футбольные чемпионаты ушли на зимние к...</td>\n      <td>NaN</td>\n      <td>Английский футбол</td>\n      <td>2019/12/14</td>\n    </tr>\n  </tbody>\n</table>\n<p>800975 rows × 6 columns</p>\n</div>"
          },
          "metadata": {}
        }
      ]
    },
    {
      "cell_type": "code",
      "source": [
        "df = df[['title', 'text']]\n",
        "df = df.dropna()\n",
        "\n",
        "df['len_text'] = df['text'].apply(len)\n",
        "df['len_title'] = df['title'].apply(len)"
      ],
      "metadata": {
        "execution": {
          "iopub.status.busy": "2023-01-23T14:05:05.581747Z",
          "iopub.execute_input": "2023-01-23T14:05:05.582096Z",
          "iopub.status.idle": "2023-01-23T14:05:06.526569Z",
          "shell.execute_reply.started": "2023-01-23T14:05:05.582065Z",
          "shell.execute_reply": "2023-01-23T14:05:06.525264Z"
        },
        "trusted": true,
        "id": "piRD8Ii3Sx7e"
      },
      "execution_count": null,
      "outputs": []
    },
    {
      "cell_type": "code",
      "source": [
        "df.hist(['len_text', 'len_title'], bins=100)"
      ],
      "metadata": {
        "execution": {
          "iopub.status.busy": "2023-01-23T14:05:06.528574Z",
          "iopub.execute_input": "2023-01-23T14:05:06.528951Z",
          "iopub.status.idle": "2023-01-23T14:05:07.517700Z",
          "shell.execute_reply.started": "2023-01-23T14:05:06.528892Z",
          "shell.execute_reply": "2023-01-23T14:05:07.516494Z"
        },
        "trusted": true,
        "id": "6HxAxGxdSx7h",
        "outputId": "0dab7768-488f-4ebd-c8d4-a8f234da5570"
      },
      "execution_count": null,
      "outputs": [
        {
          "execution_count": 15,
          "output_type": "execute_result",
          "data": {
            "text/plain": "array([[<AxesSubplot:title={'center':'len_text'}>,\n        <AxesSubplot:title={'center':'len_title'}>]], dtype=object)"
          },
          "metadata": {}
        },
        {
          "output_type": "display_data",
          "data": {
            "text/plain": "<Figure size 432x288 with 2 Axes>",
            "image/png": "[encoded data removed]"
          },
          "metadata": {
            "needs_background": "light"
          }
        }
      ]
    },
    {
      "cell_type": "code",
      "source": [
        "sns.boxplot(df['len_text'])\n",
        "plt.xlim([0, 3000])"
      ],
      "metadata": {
        "execution": {
          "iopub.status.busy": "2023-01-23T14:05:07.520336Z",
          "iopub.execute_input": "2023-01-23T14:05:07.520785Z",
          "iopub.status.idle": "2023-01-23T14:05:07.799400Z",
          "shell.execute_reply.started": "2023-01-23T14:05:07.520754Z",
          "shell.execute_reply": "2023-01-23T14:05:07.798223Z"
        },
        "trusted": true,
        "id": "ky-QDLIeSx7j",
        "outputId": "cd443db0-53dd-4820-c939-203eb68f189f"
      },
      "execution_count": null,
      "outputs": [
        {
          "name": "stderr",
          "text": "/opt/conda/lib/python3.7/site-packages/seaborn/_decorators.py:43: FutureWarning: Pass the following variable as a keyword arg: x. From version 0.12, the only valid positional argument will be `data`, and passing other arguments without an explicit keyword will result in an error or misinterpretation.\n  FutureWarning\n",
          "output_type": "stream"
        },
        {
          "execution_count": 16,
          "output_type": "execute_result",
          "data": {
            "text/plain": "(0.0, 3000.0)"
          },
          "metadata": {}
        },
        {
          "output_type": "display_data",
          "data": {
            "text/plain": "<Figure size 432x288 with 1 Axes>",
            "image/png": "[encoded data removed]"
          },
          "metadata": {
            "needs_background": "light"
          }
        }
      ]
    },
    {
      "cell_type": "code",
      "source": [
        "sns.boxplot(df['len_title'])\n",
        "plt.xlim([0, 100])"
      ],
      "metadata": {
        "execution": {
          "iopub.status.busy": "2023-01-23T14:05:07.803156Z",
          "iopub.execute_input": "2023-01-23T14:05:07.803839Z",
          "iopub.status.idle": "2023-01-23T14:05:08.021472Z",
          "shell.execute_reply.started": "2023-01-23T14:05:07.803792Z",
          "shell.execute_reply": "2023-01-23T14:05:08.020239Z"
        },
        "trusted": true,
        "id": "YEMOiiULSx7m",
        "outputId": "c22cf3ae-aab4-4f80-8baa-37c01054de80"
      },
      "execution_count": null,
      "outputs": [
        {
          "name": "stderr",
          "text": "/opt/conda/lib/python3.7/site-packages/seaborn/_decorators.py:43: FutureWarning: Pass the following variable as a keyword arg: x. From version 0.12, the only valid positional argument will be `data`, and passing other arguments without an explicit keyword will result in an error or misinterpretation.\n  FutureWarning\n",
          "output_type": "stream"
        },
        {
          "execution_count": 17,
          "output_type": "execute_result",
          "data": {
            "text/plain": "(0.0, 100.0)"
          },
          "metadata": {}
        },
        {
          "output_type": "display_data",
          "data": {
            "text/plain": "<Figure size 432x288 with 1 Axes>",
            "image/png": "[encoded data removed]"
          },
          "metadata": {
            "needs_background": "light"
          }
        }
      ]
    },
    {
      "cell_type": "code",
      "source": [
        "import torch\n",
        "import nltk\n",
        "from datasets import load_dataset\n",
        "from transformers import AutoTokenizer\n",
        "nltk.download('punkt')\n",
        "import string\n",
        "from datasets import Dataset\n",
        "from transformers import T5ForConditionalGeneration, T5Tokenizer\n",
        "\n",
        "prefix = \"\"\n",
        "max_input_length = 1000\n",
        "max_target_length = 100\n",
        "\n",
        "tokenizer = T5Tokenizer.from_pretrained('cointegrated/rut5-base-absum')\n",
        "\n",
        "def cut_text(s):\n",
        "    if len(s) > 1000:\n",
        "        s = s[0:1000]\n",
        "    return s\n",
        "\n",
        "def cut_title(s):\n",
        "    if len(s) > 100:\n",
        "        s = s[0:100]\n",
        "    return s\n",
        "\n",
        "df['text'] = df['text'].apply(cut_text)\n",
        "df['title'] = df['title'].apply(cut_title)\n",
        "\n",
        "pd_ds = df[['text', 'title']]\n",
        "\n",
        "def clean_text(text):\n",
        "  sentences = nltk.sent_tokenize(text.strip())\n",
        "  sentences_cleaned = [s for sent in sentences for s in sent.split(\"\\n\")]\n",
        "  sentences_cleaned_no_titles = [sent for sent in sentences_cleaned\n",
        "                                 if len(sent) > 0 and\n",
        "                                 sent[-1] in string.punctuation]\n",
        "  text_cleaned = \"\\n\".join(sentences_cleaned_no_titles)\n",
        "  return text_cleaned\n",
        "\n",
        "def tokinize_func(examples):\n",
        "  texts_cleaned = [clean_text(text) for text in examples[\"text\"]]\n",
        "  inputs = [prefix + text for text in texts_cleaned]\n",
        "  model_inputs = tokenizer(inputs, padding='max_length', max_length=max_target_length, truncation=True)\n",
        "\n",
        "  # Setup the tokenizer for targets\n",
        "  with tokenizer.as_target_tokenizer():\n",
        "    labels = tokenizer(examples[\"title\"], padding='max_length', max_length=max_target_length, truncation=True)\n",
        "\n",
        "  model_inputs[\"labels\"] = labels[\"input_ids\"]\n",
        "  return model_inputs\n",
        "\n",
        "dataset = Dataset.from_pandas(pd_ds)\n",
        "dataset = dataset.select(range(500))\n",
        "\n",
        "dataset = dataset.map(tokinize_func, batched=True)"
      ],
      "metadata": {
        "execution": {
          "iopub.status.busy": "2023-01-23T14:05:08.022861Z",
          "iopub.execute_input": "2023-01-23T14:05:08.023222Z",
          "iopub.status.idle": "2023-01-23T14:05:28.399546Z",
          "shell.execute_reply.started": "2023-01-23T14:05:08.023191Z",
          "shell.execute_reply": "2023-01-23T14:05:28.398172Z"
        },
        "trusted": true,
        "colab": {
          "referenced_widgets": [
            "aaaaccf3cb4c422e9ad760865b59c3b3",
            "b46b256873674509862607402fa55c7b",
            "8c0083156a714da4b31bd793dae81081",
            "15e6030ae270453e96a1706de59b05a9"
          ]
        },
        "id": "cLTN8cdbSx7o",
        "outputId": "74522697-d080-4bdc-9108-345e61d8f422"
      },
      "execution_count": null,
      "outputs": [
        {
          "name": "stderr",
          "text": "[nltk_data] Downloading package punkt to /usr/share/nltk_data...\n[nltk_data]   Package punkt is already up-to-date!\n",
          "output_type": "stream"
        },
        {
          "output_type": "display_data",
          "data": {
            "text/plain": "Downloading:   0%|          | 0.00/808k [00:00<?, ?B/s]",
            "application/vnd.jupyter.widget-view+json": {
              "version_major": 2,
              "version_minor": 0,
              "model_id": "aaaaccf3cb4c422e9ad760865b59c3b3"
            }
          },
          "metadata": {}
        },
        {
          "output_type": "display_data",
          "data": {
            "text/plain": "Downloading:   0%|          | 0.00/65.0 [00:00<?, ?B/s]",
            "application/vnd.jupyter.widget-view+json": {
              "version_major": 2,
              "version_minor": 0,
              "model_id": "b46b256873674509862607402fa55c7b"
            }
          },
          "metadata": {}
        },
        {
          "output_type": "display_data",
          "data": {
            "text/plain": "Downloading:   0%|          | 0.00/315 [00:00<?, ?B/s]",
            "application/vnd.jupyter.widget-view+json": {
              "version_major": 2,
              "version_minor": 0,
              "model_id": "8c0083156a714da4b31bd793dae81081"
            }
          },
          "metadata": {}
        },
        {
          "output_type": "display_data",
          "data": {
            "text/plain": "  0%|          | 0/1 [00:00<?, ?ba/s]",
            "application/vnd.jupyter.widget-view+json": {
              "version_major": 2,
              "version_minor": 0,
              "model_id": "15e6030ae270453e96a1706de59b05a9"
            }
          },
          "metadata": {}
        }
      ]
    },
    {
      "cell_type": "code",
      "source": [
        "dataset"
      ],
      "metadata": {
        "execution": {
          "iopub.status.busy": "2023-01-23T14:05:28.401722Z",
          "iopub.execute_input": "2023-01-23T14:05:28.402088Z",
          "iopub.status.idle": "2023-01-23T14:05:28.410246Z",
          "shell.execute_reply.started": "2023-01-23T14:05:28.402054Z",
          "shell.execute_reply": "2023-01-23T14:05:28.409085Z"
        },
        "trusted": true,
        "id": "3wM-WxgDSx7q",
        "outputId": "48a73add-a447-482c-ea47-41297d8a676c"
      },
      "execution_count": null,
      "outputs": [
        {
          "execution_count": 19,
          "output_type": "execute_result",
          "data": {
            "text/plain": "Dataset({\n    features: ['text', 'title', '__index_level_0__', 'input_ids', 'attention_mask', 'labels'],\n    num_rows: 500\n})"
          },
          "metadata": {}
        }
      ]
    },
    {
      "cell_type": "code",
      "source": [
        "# train test split\n",
        "test_part = 0.2\n",
        "\n",
        "dataset_train = dataset.select(range(int(len(dataset)*(1-test_part)))).shuffle(seed=42)\n",
        "dataset_test = dataset.select(range(int(len(dataset)*test_part))).shuffle(seed=42)"
      ],
      "metadata": {
        "execution": {
          "iopub.status.busy": "2023-01-23T14:05:28.411919Z",
          "iopub.execute_input": "2023-01-23T14:05:28.412231Z",
          "iopub.status.idle": "2023-01-23T14:05:28.434416Z",
          "shell.execute_reply.started": "2023-01-23T14:05:28.412203Z",
          "shell.execute_reply": "2023-01-23T14:05:28.433295Z"
        },
        "trusted": true,
        "id": "_elUQ0UQSx7s"
      },
      "execution_count": null,
      "outputs": []
    },
    {
      "cell_type": "code",
      "source": [
        "from transformers import pipeline, AutoModel\n",
        "\n",
        "model = T5ForConditionalGeneration.from_pretrained(\"cointegrated/rut5-base-absum\")"
      ],
      "metadata": {
        "execution": {
          "iopub.status.busy": "2023-01-23T14:05:28.436245Z",
          "iopub.execute_input": "2023-01-23T14:05:28.436697Z",
          "iopub.status.idle": "2023-01-23T14:06:19.627709Z",
          "shell.execute_reply.started": "2023-01-23T14:05:28.436653Z",
          "shell.execute_reply": "2023-01-23T14:06:19.626750Z"
        },
        "trusted": true,
        "colab": {
          "referenced_widgets": [
            "b2ed5edec4144faea371571290605956",
            "0390a434c6cc4a8495ccddefac967189"
          ]
        },
        "id": "0InhV-LRSx7u",
        "outputId": "d946cfbc-906e-487d-ea3f-87789efd0d8c"
      },
      "execution_count": null,
      "outputs": [
        {
          "output_type": "display_data",
          "data": {
            "text/plain": "Downloading:   0%|          | 0.00/753 [00:00<?, ?B/s]",
            "application/vnd.jupyter.widget-view+json": {
              "version_major": 2,
              "version_minor": 0,
              "model_id": "b2ed5edec4144faea371571290605956"
            }
          },
          "metadata": {}
        },
        {
          "output_type": "display_data",
          "data": {
            "text/plain": "Downloading:   0%|          | 0.00/932M [00:00<?, ?B/s]",
            "application/vnd.jupyter.widget-view+json": {
              "version_major": 2,
              "version_minor": 0,
              "model_id": "0390a434c6cc4a8495ccddefac967189"
            }
          },
          "metadata": {}
        }
      ]
    },
    {
      "cell_type": "code",
      "source": [
        "from transformers import TrainingArguments, Trainer, DataCollatorForSeq2Seq\n",
        "import numpy as np\n",
        "import evaluate\n",
        "\n",
        "data_collator = DataCollatorForSeq2Seq(tokenizer=tokenizer, model=model)\n",
        "\n",
        "training_args = TrainingArguments(output_dir=\"/kaggle/tmp/test_trainer\",\n",
        "                                  evaluation_strategy=\"epoch\",\n",
        "                                  num_train_epochs=1,\n",
        "                                  eval_accumulation_steps=10)\n",
        "\n",
        "trainer = Trainer(\n",
        "    model=model,\n",
        "    args=training_args,\n",
        "    train_dataset=dataset_train,\n",
        "    eval_dataset=dataset_test,\n",
        "    data_collator=data_collator,\n",
        ")"
      ],
      "metadata": {
        "execution": {
          "iopub.status.busy": "2023-01-23T14:06:19.631167Z",
          "iopub.execute_input": "2023-01-23T14:06:19.631829Z",
          "iopub.status.idle": "2023-01-23T14:06:20.157315Z",
          "shell.execute_reply.started": "2023-01-23T14:06:19.631793Z",
          "shell.execute_reply": "2023-01-23T14:06:20.156005Z"
        },
        "trusted": true,
        "id": "Su9JhPFcSx7v"
      },
      "execution_count": null,
      "outputs": []
    },
    {
      "cell_type": "code",
      "source": [
        "dataset_test"
      ],
      "metadata": {
        "execution": {
          "iopub.status.busy": "2023-01-23T14:06:20.158721Z",
          "iopub.execute_input": "2023-01-23T14:06:20.160179Z",
          "iopub.status.idle": "2023-01-23T14:06:20.167442Z",
          "shell.execute_reply.started": "2023-01-23T14:06:20.160139Z",
          "shell.execute_reply": "2023-01-23T14:06:20.166359Z"
        },
        "trusted": true,
        "id": "8VeqKB2sSx72",
        "outputId": "0a2f5638-c6c8-4c37-eb3f-61e12bfaddee"
      },
      "execution_count": null,
      "outputs": [
        {
          "execution_count": 23,
          "output_type": "execute_result",
          "data": {
            "text/plain": "Dataset({\n    features: ['text', 'title', '__index_level_0__', 'input_ids', 'attention_mask', 'labels'],\n    num_rows: 100\n})"
          },
          "metadata": {}
        }
      ]
    },
    {
      "cell_type": "code",
      "source": [
        "import gc\n",
        "gc.collect()\n",
        "torch.cuda.empty_cache()\n",
        "os.environ[\"PYTORCH_CUDA_ALLOC_CONF\"] = 'max_split_size_mb:128'\n",
        "os.environ[\"WANDB_DISABLED\"] = \"True\"\n",
        "\n",
        "trainer.train()"
      ],
      "metadata": {
        "execution": {
          "iopub.status.busy": "2023-01-23T14:06:20.170846Z",
          "iopub.execute_input": "2023-01-23T14:06:20.171853Z",
          "iopub.status.idle": "2023-01-23T14:30:20.628340Z",
          "shell.execute_reply.started": "2023-01-23T14:06:20.171816Z",
          "shell.execute_reply": "2023-01-23T14:30:20.626963Z"
        },
        "trusted": true,
        "id": "RLt5bRCkSx73",
        "outputId": "866c8017-73e7-4659-9bfd-e16af7f778b0"
      },
      "execution_count": null,
      "outputs": [
        {
          "name": "stderr",
          "text": "The following columns in the training set don't have a corresponding argument in `T5ForConditionalGeneration.forward` and have been ignored: __index_level_0__, title, text. If __index_level_0__, title, text are not expected by `T5ForConditionalGeneration.forward`,  you can safely ignore this message.\n/opt/conda/lib/python3.7/site-packages/transformers/optimization.py:310: FutureWarning: This implementation of AdamW is deprecated and will be removed in a future version. Use the PyTorch implementation torch.optim.AdamW instead, or set `no_deprecation_warning=True` to disable this warning\n  FutureWarning,\n***** Running training *****\n  Num examples = 400\n  Num Epochs = 1\n  Instantaneous batch size per device = 8\n  Total train batch size (w. parallel, distributed & accumulation) = 8\n  Gradient Accumulation steps = 1\n  Total optimization steps = 50\nAutomatic Weights & Biases logging enabled, to disable set os.environ[\"WANDB_DISABLED\"] = \"true\"\n",
          "output_type": "stream"
        },
        {
          "output_type": "display_data",
          "data": {
            "text/plain": "<IPython.core.display.HTML object>",
            "text/html": "Tracking run with wandb version 0.12.21"
          },
          "metadata": {}
        },
        {
          "output_type": "display_data",
          "data": {
            "text/plain": "<IPython.core.display.HTML object>",
            "text/html": "W&B syncing is set to <code>`offline`<code> in this directory.  <br/>Run <code>`wandb online`<code> or set <code>WANDB_MODE=online<code> to enable cloud syncing."
          },
          "metadata": {}
        },
        {
          "output_type": "display_data",
          "data": {
            "text/plain": "<IPython.core.display.HTML object>",
            "text/html": "\n    <div>\n      \n      <progress value='50' max='50' style='width:300px; height:20px; vertical-align: middle;'></progress>\n      [50/50 23:33, Epoch 1/1]\n    </div>\n    <table border=\"1\" class=\"dataframe\">\n  <thead>\n <tr style=\"text-align: left;\">\n      <th>Epoch</th>\n      <th>Training Loss</th>\n      <th>Validation Loss</th>\n    </tr>\n  </thead>\n  <tbody>\n    <tr>\n      <td>1</td>\n      <td>No log</td>\n      <td>0.307464</td>\n    </tr>\n  </tbody>\n</table><p>"
          },
          "metadata": {}
        },
        {
          "name": "stderr",
          "text": "The following columns in the evaluation set don't have a corresponding argument in `T5ForConditionalGeneration.forward` and have been ignored: __index_level_0__, title, text. If __index_level_0__, title, text are not expected by `T5ForConditionalGeneration.forward`,  you can safely ignore this message.\n***** Running Evaluation *****\n  Num examples = 100\n  Batch size = 8\n\n\nTraining completed. Do not forget to share your model on huggingface.co/models =)\n\n\n",
          "output_type": "stream"
        },
        {
          "execution_count": 24,
          "output_type": "execute_result",
          "data": {
            "text/plain": "TrainOutput(global_step=50, training_loss=0.45580032348632815, metrics={'train_runtime': 1440.1548, 'train_samples_per_second': 0.278, 'train_steps_per_second': 0.035, 'total_flos': 53104435200000.0, 'train_loss': 0.45580032348632815, 'epoch': 1.0})"
          },
          "metadata": {}
        }
      ]
    },
    {
      "cell_type": "code",
      "source": [
        "trainer.save_model(\"/kaggle/working/ruT5_title_generator\")"
      ],
      "metadata": {
        "execution": {
          "iopub.status.busy": "2023-01-23T14:30:20.631547Z",
          "iopub.execute_input": "2023-01-23T14:30:20.632066Z",
          "iopub.status.idle": "2023-01-23T14:30:22.140533Z",
          "shell.execute_reply.started": "2023-01-23T14:30:20.632011Z",
          "shell.execute_reply": "2023-01-23T14:30:22.139334Z"
        },
        "trusted": true,
        "id": "IUzEZyVWSx75",
        "outputId": "31fbf77b-c9b0-4efe-9954-dc701b53dbe6"
      },
      "execution_count": null,
      "outputs": [
        {
          "name": "stderr",
          "text": "Saving model checkpoint to /kaggle/working/ruT5_title_generator\nConfiguration saved in /kaggle/working/ruT5_title_generator/config.json\nModel weights saved in /kaggle/working/ruT5_title_generator/pytorch_model.bin\n",
          "output_type": "stream"
        }
      ]
    },
    {
      "cell_type": "code",
      "source": [
        "tokenizer.save_pretrained(\"/kaggle/working/ruT5_title_generator_tokenizer\")"
      ],
      "metadata": {
        "execution": {
          "iopub.status.busy": "2023-01-23T14:30:22.143845Z",
          "iopub.execute_input": "2023-01-23T14:30:22.144257Z",
          "iopub.status.idle": "2023-01-23T14:30:22.176813Z",
          "shell.execute_reply.started": "2023-01-23T14:30:22.144223Z",
          "shell.execute_reply": "2023-01-23T14:30:22.174776Z"
        },
        "trusted": true,
        "id": "xU6uJa3ISx76",
        "outputId": "ea1e040b-a879-4ae2-abfc-9b956135a3a5"
      },
      "execution_count": null,
      "outputs": [
        {
          "name": "stderr",
          "text": "tokenizer config file saved in /kaggle/working/ruT5_title_generator_tokenizer/tokenizer_config.json\nSpecial tokens file saved in /kaggle/working/ruT5_title_generator_tokenizer/special_tokens_map.json\n",
          "output_type": "stream"
        },
        {
          "execution_count": 26,
          "output_type": "execute_result",
          "data": {
            "text/plain": "('/kaggle/working/ruT5_title_generator_tokenizer/tokenizer_config.json',\n '/kaggle/working/ruT5_title_generator_tokenizer/special_tokens_map.json',\n '/kaggle/working/ruT5_title_generator_tokenizer/spiece.model',\n '/kaggle/working/ruT5_title_generator_tokenizer/added_tokens.json')"
          },
          "metadata": {}
        }
      ]
    },
    {
      "cell_type": "code",
      "source": [
        "def summarize(\n",
        "    text, n_words=None, compression=None,\n",
        "    max_length=1000, num_beams=3, do_sample=False, repetition_penalty=10.0, \n",
        "    **kwargs\n",
        "            ):\n",
        "    if n_words:\n",
        "        text = '[{}] '.format(n_words) + text\n",
        "    elif compression:\n",
        "        text = '[{0:.1g}] '.format(compression) + text\n",
        "    x = tokenizer(text, return_tensors='pt', padding=True).to(model.device)\n",
        "    with torch.inference_mode():\n",
        "        out = model.generate(\n",
        "            **x, \n",
        "            max_length=max_length, num_beams=num_beams, \n",
        "            do_sample=do_sample, repetition_penalty=repetition_penalty, \n",
        "            **kwargs\n",
        "        )\n",
        "    return tokenizer.decode(out[0], skip_special_tokens=True)"
      ],
      "metadata": {
        "execution": {
          "iopub.status.busy": "2023-01-23T14:30:22.178491Z",
          "iopub.execute_input": "2023-01-23T14:30:22.179531Z",
          "iopub.status.idle": "2023-01-23T14:30:22.191619Z",
          "shell.execute_reply.started": "2023-01-23T14:30:22.179485Z",
          "shell.execute_reply": "2023-01-23T14:30:22.190365Z"
        },
        "trusted": true,
        "id": "dcDZeuszSx78"
      },
      "execution_count": null,
      "outputs": []
    },
    {
      "cell_type": "code",
      "source": [
        "def predict(i=1):\n",
        "    text = dataset_test[i]['text']\n",
        "    title = dataset_test[i]['title']\n",
        "    predicted = summarize(text)\n",
        "    \n",
        "    print('Новость: ', text, '\\n')\n",
        "    print('Оригинальное название: ', title, '\\n')\n",
        "    print('Сгенерированное название: ', predicted, '\\n')"
      ],
      "metadata": {
        "execution": {
          "iopub.status.busy": "2023-01-23T14:30:22.193484Z",
          "iopub.execute_input": "2023-01-23T14:30:22.193942Z",
          "iopub.status.idle": "2023-01-23T14:30:22.202691Z",
          "shell.execute_reply.started": "2023-01-23T14:30:22.193869Z",
          "shell.execute_reply": "2023-01-23T14:30:22.201820Z"
        },
        "trusted": true,
        "id": "ZIqkz8d2Sx79"
      },
      "execution_count": null,
      "outputs": []
    },
    {
      "cell_type": "code",
      "source": [
        "predict(5)"
      ],
      "metadata": {
        "execution": {
          "iopub.status.busy": "2023-01-23T14:30:22.204365Z",
          "iopub.execute_input": "2023-01-23T14:30:22.205560Z",
          "iopub.status.idle": "2023-01-23T14:30:25.064784Z",
          "shell.execute_reply.started": "2023-01-23T14:30:22.205517Z",
          "shell.execute_reply": "2023-01-23T14:30:25.064027Z"
        },
        "trusted": true,
        "id": "omTCKJqkSx7-",
        "outputId": "c5ef5e51-c077-4162-b7de-a1fab21c347b"
      },
      "execution_count": null,
      "outputs": [
        {
          "name": "stdout",
          "text": "Новость:  Не успели утихнуть споры об организаторах взрыва на Манежной площади, как у москвичей появился новый повод для беспокойства. Как сообщают РИА \"Новости\" и ИНТЕРФАКС, сегодня утром, в 8.15, на 6-м пути Павелецкого вокзала Москвы был обнаружен предмет, похожий на взрывное устройство. Прибывший на место обнаружения подозрительного пакета кинолог с собакой подтвердил вероятность наличия в нем взрывчатки. В 8.55 на место обнаружения опасной находки прибыла спецгруппа УФСБ по Москве и Московской области. С вокзала эвакуированы все пассажиры. Кроме того, прекращена подача электропоездов на 6-й и соседние с ним железнодорожные пути. Сам вокзал окружен двойным оцеплением сотрудников милиции. Как сообщил ИТАР-ТАСС оперативный дежурный МЧС России, пакет помещен в специальное устройство-нейтрализатор. В настоящее время пакет изучают специалисты. Между тем, по информации Мэрии Москвы, напоминающий самодельное взрывное устройство предмет (два пакета, связанные между собой проводками) был найдены в ка \n\nОригинальное название:  На Павелецком вокзале обнаружен предмет, напоминающий взрывное устройcтво \n\nСгенерированное название:  На Манежной площади Москвы обнаружен предмет, похожий на самодельное взрывное устройство \n\n",
          "output_type": "stream"
        }
      ]
    },
    {
      "cell_type": "code",
      "source": [
        "predict(50)"
      ],
      "metadata": {
        "execution": {
          "iopub.status.busy": "2023-01-23T14:30:25.066828Z",
          "iopub.execute_input": "2023-01-23T14:30:25.067192Z",
          "iopub.status.idle": "2023-01-23T14:30:26.669299Z",
          "shell.execute_reply.started": "2023-01-23T14:30:25.067160Z",
          "shell.execute_reply": "2023-01-23T14:30:26.668128Z"
        },
        "trusted": true,
        "id": "RV2T5Oy3Sx8B",
        "outputId": "b3b8599a-ee31-4bd8-e872-8c2f37330839"
      },
      "execution_count": null,
      "outputs": [
        {
          "name": "stdout",
          "text": "Новость:  По данным ИТАР-ТАСС,сторонники Станислава Дерева, 11-е сутки стоящие на Центральнойплощади Черкесска, пока не откликнулись на обращение председателяправительства РФ Владимира Путина и заявление переговорныхделегаций Семенова и Дерева о прекращении митингов во имясохранения спокойствия в республике. Еще в конце августа распоряжение о прекращении митингаподписал временно исполняющий обязанности главыКарачаево-Черкесии Валентин Власов, а Черкесский городской судотменил разрешение Черкесской городской администрации на проведение митинга. Митингующие не покидают площадь даже на ночь. Станислав Дерев,выступивший в воскресенье перед ними по итогам своей поездки вМоскву, подтвердил свою прежнюю позицию, что если итоги выборовне будут отменены, то абазины, черкесы, ряд других народовоставляют за собой право провозгласить Черкесскую автономию свыходом ее из состава Карачаево-Черкесии. Обстановку в городе трудно назвать спокойной: сегодня в пять часов утрабыл совершен поджог кафе \"Цезарь\", распол \n\nОригинальное название:  Сторонники Станислава Дерева не подчинились Дереву \n\nСгенерированное название:  В Черкесске проходят митингы \n\n",
          "output_type": "stream"
        }
      ]
    }
  ]
}