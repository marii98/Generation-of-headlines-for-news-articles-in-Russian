{
  "metadata": {
    "kernelspec": {
      "display_name": "Python 3",
      "language": "python",
      "name": "python3"
    },
    "language_info": {
      "codemirror_mode": {
        "name": "ipython",
        "version": 3
      },
      "file_extension": ".py",
      "mimetype": "text/x-python",
      "name": "python",
      "nbconvert_exporter": "python",
      "pygments_lexer": "ipython3",
      "version": "3.7.12"
    },
    "papermill": {
      "default_parameters": {},
      "duration": 4367.154978,
      "end_time": "2023-01-23T12:14:21.263578",
      "environment_variables": {},
      "exception": null,
      "input_path": "__notebook__.ipynb",
      "output_path": "__notebook__.ipynb",
      "parameters": {},
      "start_time": "2023-01-23T11:01:34.108600",
      "version": "2.3.4"
    },
    "widgets": {
      "application/vnd.jupyter.widget-state+json": {}
    },
    "colab": {
      "provenance": []
    }
  },
  "nbformat_minor": 5,
  "nbformat": 4,
  "cells": [
    {
      "cell_type": "code",
      "source": [
        "!pip install jiwer\n",
        "!pip install trectools\n",
        "!pip install rouge_score\n",
        "!pip install datasets transformers torch evaluate nltk rouge_score\n",
        "\n",
        "import pandas as pd\n",
        "import matplotlib.pyplot as plt\n",
        "import tensorflow as tf\n",
        "import seaborn as sns\n",
        "import os"
      ],
      "metadata": {
        "_cell_guid": "b1076dfc-b9ad-4769-8c92-a6c4dae69d19",
        "_uuid": "8f2839f25d086af736a60e9eeb907d3b93b6e0e5",
        "papermill": {
          "duration": 59.964071,
          "end_time": "2023-01-23T11:02:43.060174",
          "exception": false,
          "start_time": "2023-01-23T11:01:43.096103",
          "status": "completed"
        },
        "tags": [],
        "execution": {
          "iopub.status.busy": "2023-01-23T15:35:47.639596Z",
          "iopub.execute_input": "2023-01-23T15:35:47.640796Z",
          "iopub.status.idle": "2023-01-23T15:36:54.371572Z",
          "shell.execute_reply.started": "2023-01-23T15:35:47.640613Z",
          "shell.execute_reply": "2023-01-23T15:36:54.370327Z"
        },
        "trusted": true,
        "id": "t0--en5bTD6-",
        "outputId": "4f810ebb-7dde-453a-b43b-3ec9ecf5f1aa"
      },
      "execution_count": null,
      "outputs": [
        {
          "name": "stdout",
          "text": "Collecting jiwer\n  Downloading jiwer-2.5.1-py3-none-any.whl (15 kB)\nCollecting levenshtein==0.20.2\n  Downloading Levenshtein-0.20.2-cp37-cp37m-manylinux_2_17_x86_64.manylinux2014_x86_64.whl (1.4 MB)\n\u001b[2K     \u001b[90m━━━━━━━━━━━━━━━━━━━━━━━━━━━━━━━━━━━━━━━━\u001b[0m \u001b[32m1.4/1.4 MB\u001b[0m \u001b[31m4.7 MB/s\u001b[0m eta \u001b[36m0:00:00\u001b[0m00:01\u001b[0m00:01\u001b[0m0m\n\u001b[?25hRequirement already satisfied: rapidfuzz<3.0.0,>=2.3.0 in /opt/conda/lib/python3.7/site-packages (from levenshtein==0.20.2->jiwer) (2.13.7)\nInstalling collected packages: levenshtein, jiwer\n  Attempting uninstall: levenshtein\n    Found existing installation: Levenshtein 0.20.9\n    Uninstalling Levenshtein-0.20.9:\n      Successfully uninstalled Levenshtein-0.20.9\n\u001b[31mERROR: pip's dependency resolver does not currently take into account all the packages that are installed. This behaviour is the source of the following dependency conflicts.\npython-levenshtein 0.20.9 requires Levenshtein==0.20.9, but you have levenshtein 0.20.2 which is incompatible.\u001b[0m\u001b[31m\n\u001b[0mSuccessfully installed jiwer-2.5.1 levenshtein-0.20.2\n\u001b[33mWARNING: Running pip as the 'root' user can result in broken permissions and conflicting behaviour with the system package manager. It is recommended to use a virtual environment instead: https://pip.pypa.io/warnings/venv\u001b[0m\u001b[33m\n\u001b[0mCollecting trectools\n  Downloading trectools-0.0.49.tar.gz (28 kB)\n  Preparing metadata (setup.py) ... \u001b[?25ldone\n\u001b[?25hRequirement already satisfied: pandas>=0.15.0 in /opt/conda/lib/python3.7/site-packages (from trectools) (1.3.5)\nRequirement already satisfied: numpy>=1.0.0 in /opt/conda/lib/python3.7/site-packages (from trectools) (1.21.6)\nRequirement already satisfied: scikit-learn>=0.15 in /opt/conda/lib/python3.7/site-packages (from trectools) (1.0.2)\nRequirement already satisfied: scipy>=0.10.0 in /opt/conda/lib/python3.7/site-packages (from trectools) (1.7.3)\nCollecting sarge>=0.1.1\n  Downloading sarge-0.1.7.post1-py2.py3-none-any.whl (18 kB)\nRequirement already satisfied: lxml>=3.6.0 in /opt/conda/lib/python3.7/site-packages (from trectools) (4.9.2)\nCollecting bs4>=0.0.0.1\n  Downloading bs4-0.0.1.tar.gz (1.1 kB)\n  Preparing metadata (setup.py) ... \u001b[?25ldone\n\u001b[?25hRequirement already satisfied: matplotlib>=1.5 in /opt/conda/lib/python3.7/site-packages (from trectools) (3.5.3)\nRequirement already satisfied: beautifulsoup4 in /opt/conda/lib/python3.7/site-packages (from bs4>=0.0.0.1->trectools) (4.11.1)\nRequirement already satisfied: python-dateutil>=2.7 in /opt/conda/lib/python3.7/site-packages (from matplotlib>=1.5->trectools) (2.8.2)\nRequirement already satisfied: pyparsing>=2.2.1 in /opt/conda/lib/python3.7/site-packages (from matplotlib>=1.5->trectools) (3.0.9)\nRequirement already satisfied: pillow>=6.2.0 in /opt/conda/lib/python3.7/site-packages (from matplotlib>=1.5->trectools) (9.1.1)\nRequirement already satisfied: kiwisolver>=1.0.1 in /opt/conda/lib/python3.7/site-packages (from matplotlib>=1.5->trectools) (1.4.3)\nRequirement already satisfied: packaging>=20.0 in /opt/conda/lib/python3.7/site-packages (from matplotlib>=1.5->trectools) (22.0)\nRequirement already satisfied: fonttools>=4.22.0 in /opt/conda/lib/python3.7/site-packages (from matplotlib>=1.5->trectools) (4.33.3)\nRequirement already satisfied: cycler>=0.10 in /opt/conda/lib/python3.7/site-packages (from matplotlib>=1.5->trectools) (0.11.0)\nRequirement already satisfied: pytz>=2017.3 in /opt/conda/lib/python3.7/site-packages (from pandas>=0.15.0->trectools) (2022.1)\nRequirement already satisfied: threadpoolctl>=2.0.0 in /opt/conda/lib/python3.7/site-packages (from scikit-learn>=0.15->trectools) (3.1.0)\nRequirement already satisfied: joblib>=0.11 in /opt/conda/lib/python3.7/site-packages (from scikit-learn>=0.15->trectools) (1.0.1)\nRequirement already satisfied: typing-extensions in /opt/conda/lib/python3.7/site-packages (from kiwisolver>=1.0.1->matplotlib>=1.5->trectools) (4.1.1)\nRequirement already satisfied: six>=1.5 in /opt/conda/lib/python3.7/site-packages (from python-dateutil>=2.7->matplotlib>=1.5->trectools) (1.15.0)\nRequirement already satisfied: soupsieve>1.2 in /opt/conda/lib/python3.7/site-packages (from beautifulsoup4->bs4>=0.0.0.1->trectools) (2.3.1)\nBuilding wheels for collected packages: trectools, bs4\n  Building wheel for trectools (setup.py) ... \u001b[?25ldone\n\u001b[?25h  Created wheel for trectools: filename=trectools-0.0.49-py3-none-any.whl size=27140 sha256=f937f0fb163e5f58238dee4a0685ef23e0ce7cb11f6dab05d5d98286e7a5b301\n  Stored in directory: /root/.cache/pip/wheels/66/02/63/20592b3c87f6860ff74e8c58cffe040a7961c358ec404ceade\n  Building wheel for bs4 (setup.py) ... \u001b[?25ldone\n\u001b[?25h  Created wheel for bs4: filename=bs4-0.0.1-py3-none-any.whl size=1272 sha256=83e5b6408051612afa016abb85c6e0e659668e33328316c70ba0ed8755c9f5d3\n  Stored in directory: /root/.cache/pip/wheels/0a/9e/ba/20e5bbc1afef3a491f0b3bb74d508f99403aabe76eda2167ca\nSuccessfully built trectools bs4\nInstalling collected packages: sarge, bs4, trectools\nSuccessfully installed bs4-0.0.1 sarge-0.1.7.post1 trectools-0.0.49\n\u001b[33mWARNING: Running pip as the 'root' user can result in broken permissions and conflicting behaviour with the system package manager. It is recommended to use a virtual environment instead: https://pip.pypa.io/warnings/venv\u001b[0m\u001b[33m\n\u001b[0mCollecting rouge_score\n  Downloading rouge_score-0.1.2.tar.gz (17 kB)\n  Preparing metadata (setup.py) ... \u001b[?25ldone\n\u001b[?25hRequirement already satisfied: absl-py in /opt/conda/lib/python3.7/site-packages (from rouge_score) (0.15.0)\nRequirement already satisfied: nltk in /opt/conda/lib/python3.7/site-packages (from rouge_score) (3.8.1)\nRequirement already satisfied: numpy in /opt/conda/lib/python3.7/site-packages (from rouge_score) (1.21.6)\nRequirement already satisfied: six>=1.14.0 in /opt/conda/lib/python3.7/site-packages (from rouge_score) (1.15.0)\nRequirement already satisfied: regex>=2021.8.3 in /opt/conda/lib/python3.7/site-packages (from nltk->rouge_score) (2021.11.10)\nRequirement already satisfied: tqdm in /opt/conda/lib/python3.7/site-packages (from nltk->rouge_score) (4.64.0)\nRequirement already satisfied: joblib in /opt/conda/lib/python3.7/site-packages (from nltk->rouge_score) (1.0.1)\nRequirement already satisfied: click in /opt/conda/lib/python3.7/site-packages (from nltk->rouge_score) (8.1.3)\nRequirement already satisfied: importlib-metadata in /opt/conda/lib/python3.7/site-packages (from click->nltk->rouge_score) (4.13.0)\nRequirement already satisfied: zipp>=0.5 in /opt/conda/lib/python3.7/site-packages (from importlib-metadata->click->nltk->rouge_score) (3.8.0)\nRequirement already satisfied: typing-extensions>=3.6.4 in /opt/conda/lib/python3.7/site-packages (from importlib-metadata->click->nltk->rouge_score) (4.1.1)\nBuilding wheels for collected packages: rouge_score\n  Building wheel for rouge_score (setup.py) ... \u001b[?25ldone\n\u001b[?25h  Created wheel for rouge_score: filename=rouge_score-0.1.2-py3-none-any.whl size=24955 sha256=af8f1e8e61be9b7b67ceb3edabbfa0402d3174bbb534873ea42951e6d336a600\n  Stored in directory: /root/.cache/pip/wheels/84/ac/6b/38096e3c5bf1dc87911e3585875e21a3ac610348e740409c76\nSuccessfully built rouge_score\nInstalling collected packages: rouge_score\nSuccessfully installed rouge_score-0.1.2\n\u001b[33mWARNING: Running pip as the 'root' user can result in broken permissions and conflicting behaviour with the system package manager. It is recommended to use a virtual environment instead: https://pip.pypa.io/warnings/venv\u001b[0m\u001b[33m\n\u001b[0mRequirement already satisfied: datasets in /opt/conda/lib/python3.7/site-packages (2.1.0)\nRequirement already satisfied: transformers in /opt/conda/lib/python3.7/site-packages (4.20.1)\nRequirement already satisfied: torch in /opt/conda/lib/python3.7/site-packages (1.11.0+cpu)\nCollecting evaluate\n  Downloading evaluate-0.4.0-py3-none-any.whl (81 kB)\n\u001b[2K     \u001b[90m━━━━━━━━━━━━━━━━━━━━━━━━━━━━━━━━━━━━━━━\u001b[0m \u001b[32m81.4/81.4 kB\u001b[0m \u001b[31m917.9 kB/s\u001b[0m eta \u001b[36m0:00:00\u001b[0ma \u001b[36m0:00:01\u001b[0m\n\u001b[?25hRequirement already satisfied: nltk in /opt/conda/lib/python3.7/site-packages (3.8.1)\nRequirement already satisfied: rouge_score in /opt/conda/lib/python3.7/site-packages (0.1.2)\nRequirement already satisfied: responses<0.19 in /opt/conda/lib/python3.7/site-packages (from datasets) (0.18.0)\nRequirement already satisfied: huggingface-hub<1.0.0,>=0.1.0 in /opt/conda/lib/python3.7/site-packages (from datasets) (0.10.1)\nRequirement already satisfied: packaging in /opt/conda/lib/python3.7/site-packages (from datasets) (22.0)\nRequirement already satisfied: tqdm>=4.62.1 in /opt/conda/lib/python3.7/site-packages (from datasets) (4.64.0)\nRequirement already satisfied: numpy>=1.17 in /opt/conda/lib/python3.7/site-packages (from datasets) (1.21.6)\nRequirement already satisfied: multiprocess in /opt/conda/lib/python3.7/site-packages (from datasets) (0.70.14)\nRequirement already satisfied: fsspec[http]>=2021.05.0 in /opt/conda/lib/python3.7/site-packages (from datasets) (2022.11.0)\nRequirement already satisfied: requests>=2.19.0 in /opt/conda/lib/python3.7/site-packages (from datasets) (2.28.1)\nRequirement already satisfied: xxhash in /opt/conda/lib/python3.7/site-packages (from datasets) (3.2.0)\nRequirement already satisfied: pandas in /opt/conda/lib/python3.7/site-packages (from datasets) (1.3.5)\nRequirement already satisfied: dill in /opt/conda/lib/python3.7/site-packages (from datasets) (0.3.6)\nRequirement already satisfied: pyarrow>=5.0.0 in /opt/conda/lib/python3.7/site-packages (from datasets) (8.0.0)\nRequirement already satisfied: aiohttp in /opt/conda/lib/python3.7/site-packages (from datasets) (3.8.1)\nRequirement already satisfied: importlib-metadata in /opt/conda/lib/python3.7/site-packages (from datasets) (4.13.0)\nRequirement already satisfied: tokenizers!=0.11.3,<0.13,>=0.11.1 in /opt/conda/lib/python3.7/site-packages (from transformers) (0.12.1)\nRequirement already satisfied: filelock in /opt/conda/lib/python3.7/site-packages (from transformers) (3.7.1)\nRequirement already satisfied: pyyaml>=5.1 in /opt/conda/lib/python3.7/site-packages (from transformers) (6.0)\nRequirement already satisfied: regex!=2019.12.17 in /opt/conda/lib/python3.7/site-packages (from transformers) (2021.11.10)\nRequirement already satisfied: typing-extensions in /opt/conda/lib/python3.7/site-packages (from torch) (4.1.1)\nRequirement already satisfied: click in /opt/conda/lib/python3.7/site-packages (from nltk) (8.1.3)\nRequirement already satisfied: joblib in /opt/conda/lib/python3.7/site-packages (from nltk) (1.0.1)\nRequirement already satisfied: absl-py in /opt/conda/lib/python3.7/site-packages (from rouge_score) (0.15.0)\nRequirement already satisfied: six>=1.14.0 in /opt/conda/lib/python3.7/site-packages (from rouge_score) (1.15.0)\nRequirement already satisfied: frozenlist>=1.1.1 in /opt/conda/lib/python3.7/site-packages (from aiohttp->datasets) (1.3.0)\nRequirement already satisfied: aiosignal>=1.1.2 in /opt/conda/lib/python3.7/site-packages (from aiohttp->datasets) (1.2.0)\nRequirement already satisfied: async-timeout<5.0,>=4.0.0a3 in /opt/conda/lib/python3.7/site-packages (from aiohttp->datasets) (4.0.2)\nRequirement already satisfied: attrs>=17.3.0 in /opt/conda/lib/python3.7/site-packages (from aiohttp->datasets) (21.4.0)\nRequirement already satisfied: asynctest==0.13.0 in /opt/conda/lib/python3.7/site-packages (from aiohttp->datasets) (0.13.0)\nRequirement already satisfied: charset-normalizer<3.0,>=2.0 in /opt/conda/lib/python3.7/site-packages (from aiohttp->datasets) (2.1.0)\nRequirement already satisfied: yarl<2.0,>=1.0 in /opt/conda/lib/python3.7/site-packages (from aiohttp->datasets) (1.7.2)\nRequirement already satisfied: multidict<7.0,>=4.5 in /opt/conda/lib/python3.7/site-packages (from aiohttp->datasets) (6.0.2)\nRequirement already satisfied: idna<4,>=2.5 in /opt/conda/lib/python3.7/site-packages (from requests>=2.19.0->datasets) (3.3)\nRequirement already satisfied: urllib3<1.27,>=1.21.1 in /opt/conda/lib/python3.7/site-packages (from requests>=2.19.0->datasets) (1.26.13)\nRequirement already satisfied: certifi>=2017.4.17 in /opt/conda/lib/python3.7/site-packages (from requests>=2.19.0->datasets) (2022.12.7)\nRequirement already satisfied: zipp>=0.5 in /opt/conda/lib/python3.7/site-packages (from importlib-metadata->datasets) (3.8.0)\nRequirement already satisfied: python-dateutil>=2.7.3 in /opt/conda/lib/python3.7/site-packages (from pandas->datasets) (2.8.2)\nRequirement already satisfied: pytz>=2017.3 in /opt/conda/lib/python3.7/site-packages (from pandas->datasets) (2022.1)\nInstalling collected packages: evaluate\nSuccessfully installed evaluate-0.4.0\n\u001b[33mWARNING: Running pip as the 'root' user can result in broken permissions and conflicting behaviour with the system package manager. It is recommended to use a virtual environment instead: https://pip.pypa.io/warnings/venv\u001b[0m\u001b[33m\n\u001b[0m",
          "output_type": "stream"
        }
      ],
      "id": "t0--en5bTD6-"
    },
    {
      "cell_type": "code",
      "source": [
        "df = pd.read_csv('/kaggle/input/corpus-of-russian-news-articles-from-lenta/lenta-ru-news.csv')\n",
        "df = df[['title', 'text']]\n",
        "df = df.dropna()"
      ],
      "metadata": {
        "papermill": {
          "duration": 59.321712,
          "end_time": "2023-01-23T11:03:42.388423",
          "exception": false,
          "start_time": "2023-01-23T11:02:43.066711",
          "status": "completed"
        },
        "tags": [],
        "execution": {
          "iopub.status.busy": "2023-01-23T15:36:54.373873Z",
          "iopub.execute_input": "2023-01-23T15:36:54.374628Z",
          "iopub.status.idle": "2023-01-23T15:37:54.193706Z",
          "shell.execute_reply.started": "2023-01-23T15:36:54.374588Z",
          "shell.execute_reply": "2023-01-23T15:37:54.192236Z"
        },
        "trusted": true,
        "id": "eMzf5nV3TD7G",
        "outputId": "fed5a657-7c80-4c96-dc05-72e7f99a7529"
      },
      "execution_count": null,
      "outputs": [
        {
          "name": "stderr",
          "text": "/opt/conda/lib/python3.7/site-packages/IPython/core/interactiveshell.py:3552: DtypeWarning: Columns (3) have mixed types.Specify dtype option on import or set low_memory=False.\n  exec(code_obj, self.user_global_ns, self.user_ns)\n",
          "output_type": "stream"
        }
      ],
      "id": "eMzf5nV3TD7G"
    },
    {
      "cell_type": "code",
      "source": [
        "import torch\n",
        "import nltk\n",
        "from datasets import load_dataset\n",
        "from transformers import AutoConfig\n",
        "nltk.download('punkt')\n",
        "import string\n",
        "from datasets import Dataset\n",
        "from transformers import T5ForConditionalGeneration, T5Tokenizer\n",
        "\n",
        "prefix = \"\"\n",
        "max_input_length = 1000\n",
        "max_target_length = 100\n",
        "\n",
        "tokenizer = T5Tokenizer.from_pretrained('cointegrated/rut5-base-absum')\n",
        "\n",
        "def cut_text(s):\n",
        "    if len(s) > 1000:\n",
        "        s = s[0:1000]\n",
        "    return s\n",
        "\n",
        "def cut_title(s):\n",
        "    if len(s) > 100:\n",
        "        s = s[0:100]\n",
        "    return s\n",
        "\n",
        "df['text'] = df['text'].apply(cut_text)\n",
        "df['title'] = df['title'].apply(cut_title)\n",
        "\n",
        "pd_ds = df[['text', 'title']]\n",
        "\n",
        "def clean_text(text):\n",
        "  sentences = nltk.sent_tokenize(text.strip())\n",
        "  sentences_cleaned = [s for sent in sentences for s in sent.split(\"\\n\")]\n",
        "  sentences_cleaned_no_titles = [sent for sent in sentences_cleaned\n",
        "                                 if len(sent) > 0 and\n",
        "                                 sent[-1] in string.punctuation]\n",
        "  text_cleaned = \"\\n\".join(sentences_cleaned_no_titles)\n",
        "  return text_cleaned\n",
        "\n",
        "def tokinize_func(examples):\n",
        "  texts_cleaned = [clean_text(text) for text in examples[\"text\"]]\n",
        "  inputs = [prefix + text for text in texts_cleaned]\n",
        "  model_inputs = tokenizer(inputs, padding='max_length', max_length=max_target_length, truncation=True)\n",
        "\n",
        "  # Setup the tokenizer for targets\n",
        "  with tokenizer.as_target_tokenizer():\n",
        "    labels = tokenizer(examples[\"title\"], padding='max_length', max_length=max_target_length, truncation=True)\n",
        "\n",
        "  model_inputs[\"labels\"] = labels[\"input_ids\"]\n",
        "  return model_inputs\n",
        "\n",
        "\n",
        "dataset = Dataset.from_pandas(pd_ds)\n",
        "dataset = dataset.select(range(100_000))\n",
        "\n",
        "test_part = 0.02\n",
        "dataset = dataset.select(range(int(len(dataset)*(1-test_part)), int(len(dataset))))\n",
        "\n",
        "dataset = dataset.map(tokinize_func, batched=True)"
      ],
      "metadata": {
        "papermill": {
          "duration": 20.682881,
          "end_time": "2023-01-23T11:04:03.079474",
          "exception": false,
          "start_time": "2023-01-23T11:03:42.396593",
          "status": "completed"
        },
        "tags": [],
        "execution": {
          "iopub.status.busy": "2023-01-23T15:37:54.195408Z",
          "iopub.execute_input": "2023-01-23T15:37:54.195856Z",
          "iopub.status.idle": "2023-01-23T15:38:23.066282Z",
          "shell.execute_reply.started": "2023-01-23T15:37:54.195817Z",
          "shell.execute_reply": "2023-01-23T15:38:23.064829Z"
        },
        "trusted": true,
        "id": "rFHcnwWfTD7Q",
        "outputId": "f6e7bb3c-ba1e-40d3-d2ff-cb85454b279a",
        "colab": {
          "referenced_widgets": [
            "0e901ba76ccd4aa9b508e0d27127bf35",
            "74c0f8ac78764df1b7a6fca404c968f2",
            "f158e8f5c0b142458d77c42ef1678f6e",
            "6c4c003d57b24ad8bbf6c79dcbc75f8a"
          ]
        }
      },
      "execution_count": null,
      "outputs": [
        {
          "name": "stderr",
          "text": "[nltk_data] Downloading package punkt to /usr/share/nltk_data...\n[nltk_data]   Package punkt is already up-to-date!\n",
          "output_type": "stream"
        },
        {
          "output_type": "display_data",
          "data": {
            "text/plain": "Downloading:   0%|          | 0.00/808k [00:00<?, ?B/s]",
            "application/vnd.jupyter.widget-view+json": {
              "version_major": 2,
              "version_minor": 0,
              "model_id": "0e901ba76ccd4aa9b508e0d27127bf35"
            }
          },
          "metadata": {}
        },
        {
          "output_type": "display_data",
          "data": {
            "text/plain": "Downloading:   0%|          | 0.00/65.0 [00:00<?, ?B/s]",
            "application/vnd.jupyter.widget-view+json": {
              "version_major": 2,
              "version_minor": 0,
              "model_id": "74c0f8ac78764df1b7a6fca404c968f2"
            }
          },
          "metadata": {}
        },
        {
          "output_type": "display_data",
          "data": {
            "text/plain": "Downloading:   0%|          | 0.00/315 [00:00<?, ?B/s]",
            "application/vnd.jupyter.widget-view+json": {
              "version_major": 2,
              "version_minor": 0,
              "model_id": "f158e8f5c0b142458d77c42ef1678f6e"
            }
          },
          "metadata": {}
        },
        {
          "output_type": "display_data",
          "data": {
            "text/plain": "  0%|          | 0/2 [00:00<?, ?ba/s]",
            "application/vnd.jupyter.widget-view+json": {
              "version_major": 2,
              "version_minor": 0,
              "model_id": "6c4c003d57b24ad8bbf6c79dcbc75f8a"
            }
          },
          "metadata": {}
        }
      ],
      "id": "rFHcnwWfTD7Q"
    },
    {
      "cell_type": "code",
      "source": [
        "from evaluate import evaluator\n",
        "from transformers import pipeline\n",
        "from datasets import load_dataset\n",
        "from transformers import pipeline, AutoModel\n",
        "\n",
        "task_evaluator = evaluator(\"text2text-generation\")\n",
        "\n",
        "model = T5ForConditionalGeneration.from_pretrained(\"/kaggle/input/t5-title-gen-fine-tuned/ruT5_title_generator\")\n",
        "generator = pipeline(task=\"text2text-generation\", model=model, tokenizer=tokenizer)\n",
        "\n",
        "def eval_model(generator, metric='wer'):\n",
        "    results = task_evaluator.compute(\n",
        "        model_or_pipeline=generator,\n",
        "        data=dataset,\n",
        "        input_column=\"text\",\n",
        "        label_column=\"title\",\n",
        "        metric=metric,\n",
        "    )\n",
        "    print(results)"
      ],
      "metadata": {
        "papermill": {
          "duration": 14.664592,
          "end_time": "2023-01-23T11:04:17.751973",
          "exception": false,
          "start_time": "2023-01-23T11:04:03.087381",
          "status": "completed"
        },
        "tags": [],
        "execution": {
          "iopub.status.busy": "2023-01-23T15:38:23.070451Z",
          "iopub.execute_input": "2023-01-23T15:38:23.070853Z",
          "iopub.status.idle": "2023-01-23T15:38:36.982000Z",
          "shell.execute_reply.started": "2023-01-23T15:38:23.070816Z",
          "shell.execute_reply": "2023-01-23T15:38:36.980583Z"
        },
        "trusted": true,
        "id": "rjevpbeXTD7U"
      },
      "execution_count": null,
      "outputs": [],
      "id": "rjevpbeXTD7U"
    },
    {
      "cell_type": "code",
      "source": [
        "eval_model(generator)"
      ],
      "metadata": {
        "papermill": {
          "duration": 4193.402576,
          "end_time": "2023-01-23T12:14:11.162994",
          "exception": false,
          "start_time": "2023-01-23T11:04:17.760418",
          "status": "completed"
        },
        "tags": [],
        "execution": {
          "iopub.status.busy": "2023-01-23T15:38:36.983906Z",
          "iopub.execute_input": "2023-01-23T15:38:36.984339Z",
          "iopub.status.idle": "2023-01-23T16:21:52.415417Z",
          "shell.execute_reply.started": "2023-01-23T15:38:36.984298Z",
          "shell.execute_reply": "2023-01-23T16:21:52.413747Z"
        },
        "trusted": true,
        "id": "Zcf_8b1YTD7V",
        "outputId": "ab6360a2-a2ff-45aa-aa4b-fcdd78e8dd59",
        "colab": {
          "referenced_widgets": [
            "5ad5086bf8f143cb89fa76bf1c86eae6"
          ]
        }
      },
      "execution_count": null,
      "outputs": [
        {
          "name": "stderr",
          "text": "2023-01-23 15:38:37.024027: I tensorflow/core/common_runtime/process_util.cc:146] Creating new thread pool with default inter op setting: 2. Tune using inter_op_parallelism_threads for best performance.\n",
          "output_type": "stream"
        },
        {
          "output_type": "display_data",
          "data": {
            "text/plain": "Downloading builder script:   0%|          | 0.00/4.49k [00:00<?, ?B/s]",
            "application/vnd.jupyter.widget-view+json": {
              "version_major": 2,
              "version_minor": 0,
              "model_id": "5ad5086bf8f143cb89fa76bf1c86eae6"
            }
          },
          "metadata": {}
        },
        {
          "name": "stderr",
          "text": "Asking to truncate to max_length but no maximum length is provided and the model has no predefined maximum length. Default to no truncation.\n",
          "output_type": "stream"
        },
        {
          "name": "stdout",
          "text": "{'wer': 1.0049589338292266, 'total_time_in_seconds': 2594.019760215, 'samples_per_second': 0.771004149881354, 'latency_in_seconds': 1.2970098801075}\n",
          "output_type": "stream"
        }
      ],
      "id": "Zcf_8b1YTD7V"
    },
    {
      "cell_type": "code",
      "source": [
        "def summarize(\n",
        "    text, n_words=None, compression=None,\n",
        "    max_length=1000, num_beams=3, do_sample=False, repetition_penalty=10.0, \n",
        "    **kwargs\n",
        "            ):\n",
        "    if n_words:\n",
        "        text = '[{}] '.format(n_words) + text\n",
        "    elif compression:\n",
        "        text = '[{0:.1g}] '.format(compression) + text\n",
        "    x = tokenizer(text, return_tensors='pt', padding=True).to(model.device)\n",
        "    with torch.inference_mode():\n",
        "        out = model.generate(\n",
        "            **x, \n",
        "            max_length=max_length, num_beams=num_beams, \n",
        "            do_sample=do_sample, repetition_penalty=repetition_penalty, \n",
        "            **kwargs\n",
        "        )\n",
        "    return tokenizer.decode(out[0], skip_special_tokens=True)\n",
        "\n",
        "def predict(i):\n",
        "    text = dataset[i]['text']\n",
        "    title = dataset[i]['title']\n",
        "    predicted = summarize(text)\n",
        "    \n",
        "    print('Новость: ', text, '\\n')\n",
        "    print('Оригинальное название: ', title, '\\n')\n",
        "    print('Сгенерированное название: ', predicted, '\\n')"
      ],
      "metadata": {
        "papermill": {
          "duration": 0.02155,
          "end_time": "2023-01-23T12:14:11.191878",
          "exception": false,
          "start_time": "2023-01-23T12:14:11.170328",
          "status": "completed"
        },
        "tags": [],
        "execution": {
          "iopub.status.busy": "2023-01-23T16:21:52.417333Z",
          "iopub.execute_input": "2023-01-23T16:21:52.417821Z",
          "iopub.status.idle": "2023-01-23T16:21:52.429426Z",
          "shell.execute_reply.started": "2023-01-23T16:21:52.417784Z",
          "shell.execute_reply": "2023-01-23T16:21:52.428045Z"
        },
        "trusted": true,
        "id": "AOa42AtjTD7W"
      },
      "execution_count": null,
      "outputs": [],
      "id": "AOa42AtjTD7W"
    },
    {
      "cell_type": "code",
      "source": [
        "# predicting title for news №5\n",
        "predict(5)"
      ],
      "metadata": {
        "papermill": {
          "duration": 3.889006,
          "end_time": "2023-01-23T12:14:15.088289",
          "exception": false,
          "start_time": "2023-01-23T12:14:11.199283",
          "status": "completed"
        },
        "tags": [],
        "execution": {
          "iopub.status.busy": "2023-01-23T16:21:52.431155Z",
          "iopub.execute_input": "2023-01-23T16:21:52.431861Z",
          "iopub.status.idle": "2023-01-23T16:21:55.876815Z",
          "shell.execute_reply.started": "2023-01-23T16:21:52.431819Z",
          "shell.execute_reply": "2023-01-23T16:21:55.875266Z"
        },
        "trusted": true,
        "id": "-42678dKTD78",
        "outputId": "90afec52-ee47-4b80-ef7b-d325eb07739f"
      },
      "execution_count": null,
      "outputs": [
        {
          "name": "stdout",
          "text": "Новость:  Объединенные Арабские Эмираты в лице президента страны шейха Заеда бин Султана ан-Нихайяна приняли решение отозвать пожертвование на сумму 2,5 миллиона долларов Университетской богословской школе Гарварда, сообщает  Reuters. Пожертвование богословской школе было сделано в 2000 году для поощрения исследований исламской религии. Однако недавно на сайте Гарварда появился пресс-релиз, в котором сообщалось, что университет рассматривает вопрос о возвращении шейху его денег в связи со скандалом вокруг Международного центра сотрудничества и развития имени Заеда. Ранее несколько сот студентов и выпускников подписали петицию в поддержку этой инициативы. Центр имени Заеда, основанный в 1999 году, привлек внимание к своей деятельности после того, как приглашенные арабские и европейские специалисты прочитали ряд лекций, посвященных Израилю и иудаизму. В антисемитизме были, в частности, обвинены сотрудничавшие с центром французский писатель и один из экспертов. По мнению первого, трагедия 11 сентяб \n\nОригинальное название:  Шейх Эмиратов просит Гарвард вернуть его \"грязные\" деньги \n\nСгенерированное название:  Объединенные Арабские Эмираты отозвали пожертвование на сумму 2,5 миллиона долларов университетской богословской школе Гарварда \n\n",
          "output_type": "stream"
        }
      ],
      "id": "-42678dKTD78"
    },
    {
      "cell_type": "code",
      "source": [
        "# predicting title for news №50\n",
        "predict(50)"
      ],
      "metadata": {
        "papermill": {
          "duration": 2.925082,
          "end_time": "2023-01-23T12:14:18.020574",
          "exception": false,
          "start_time": "2023-01-23T12:14:15.095492",
          "status": "completed"
        },
        "tags": [],
        "execution": {
          "iopub.status.busy": "2023-01-23T16:21:55.879125Z",
          "iopub.execute_input": "2023-01-23T16:21:55.879653Z",
          "iopub.status.idle": "2023-01-23T16:21:58.180037Z",
          "shell.execute_reply.started": "2023-01-23T16:21:55.879600Z",
          "shell.execute_reply": "2023-01-23T16:21:58.178708Z"
        },
        "trusted": true,
        "id": "UjQ8bsQdTD79",
        "outputId": "b4ffe4a6-bbdf-4ed8-fad0-91613d5b09de"
      },
      "execution_count": null,
      "outputs": [
        {
          "name": "stdout",
          "text": "Новость:  В четверг на территории США успешно завершилось первое испытание израильско-американской системы ПВО \"Хец\" (Arrow) по перехвату реальной цели, сообщает агентство \"Курсор\". Новая ракета поразила баллистическую ракету \"Скад\", запущенную с корабля у побережья Калифорнии. \"Хец\", поднявшаяся в воздух с острова на расстоянии нескольких километров, опознала цель и уничтожила ее. Это первое испытание новой системы ПВО в \"боевых условиях\", отмечает агентство. Ранее в качестве целей использовались реактивные снаряды, имитирующие баллистические ракеты или компьютерные имитаторы. Система ПВО \"Хец\" является плодом сотрудничества израильской государственной корпорации \"Авиационная промышленность\" и американской корпорации \"Боинг\". Работа на проектом \"противоракеты\" началась еще в 80-х годах прошлого века. На сегодняшний день эта система ПВО является одной из немногих, которые способны перехватывать баллистические ракеты на больших высотах. \n\nОригинальное название:  США и Израиль провели испытания противоракетной системы Arrow \n\nСгенерированное название:  \"Хец\" успешно уничтожил баллистическую ракету \n\n",
          "output_type": "stream"
        }
      ],
      "id": "UjQ8bsQdTD79"
    }
  ]
}